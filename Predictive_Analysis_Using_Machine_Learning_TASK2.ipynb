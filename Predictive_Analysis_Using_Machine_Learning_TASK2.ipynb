{
  "nbformat": 4,
  "nbformat_minor": 0,
  "metadata": {
    "colab": {
      "provenance": [],
      "authorship_tag": "ABX9TyM9xHtLxLU3FQ4E9paHuPun",
      "include_colab_link": true
    },
    "kernelspec": {
      "name": "python3",
      "display_name": "Python 3"
    },
    "language_info": {
      "name": "python"
    }
  },
  "cells": [
    {
      "cell_type": "markdown",
      "metadata": {
        "id": "view-in-github",
        "colab_type": "text"
      },
      "source": [
        "<a href=\"https://colab.research.google.com/github/MaInthiyaz/Codtech/blob/main/Predictive_Analysis_Using_Machine_Learning_TASK2.ipynb\" target=\"_parent\"><img src=\"https://colab.research.google.com/assets/colab-badge.svg\" alt=\"Open In Colab\"/></a>"
      ]
    },
    {
      "cell_type": "markdown",
      "source": [
        "\n",
        "\n",
        "Build a machine learning model (regression or classification) using a dataset.\n",
        "\n",
        "Deliver a notebook showing:\n",
        "\n",
        "Feature selection\n",
        "\n",
        "Model training\n",
        "\n",
        "Model evaluation\n",
        "\n",
        " the dataset name: data_reports_monthly.csv.\n",
        "\n"
      ],
      "metadata": {
        "id": "C_cLeveIvQ2t"
      }
    },
    {
      "cell_type": "code",
      "execution_count": 3,
      "metadata": {
        "colab": {
          "base_uri": "https://localhost:8080/"
        },
        "id": "PmNfsh_0u7ah",
        "outputId": "9b6c0258-e9f6-4e3c-a81f-bf7f29182623"
      },
      "outputs": [
        {
          "output_type": "stream",
          "name": "stdout",
          "text": [
            "  Month/Year      License Class Trips Per Day Farebox Per Day Unique Drivers  \\\n",
            "0    2025-03  FHV - High Volume       662,479               -         80,637   \n",
            "1    2025-03              Green         1,625          34,960            653   \n",
            "2    2025-03             Yellow       132,152       3,091,726         12,663   \n",
            "3    2025-02    FHV - Black Car        26,517               -          9,926   \n",
            "4    2025-02  FHV - High Volume       690,694               -         80,286   \n",
            "\n",
            "  Unique Vehicles Vehicles Per Day  Avg Days Vehicles on Road  \\\n",
            "0          79,950           57,956                       22.5   \n",
            "1             626              359                       17.8   \n",
            "2           9,504            8,452                       27.6   \n",
            "3           9,768            4,477                       12.8   \n",
            "4          79,556           57,477                       20.2   \n",
            "\n",
            "   Avg Hours Per Day Per Vehicle  Avg Days Drivers on Road  \\\n",
            "0                            6.4                      22.6   \n",
            "1                            3.6                      17.2   \n",
            "2                            8.7                      23.8   \n",
            "3                            4.7                      12.9   \n",
            "4                            6.6                      20.3   \n",
            "\n",
            "   Avg Hours Per Day Per Driver  Avg Minutes Per Trip  \\\n",
            "0                           6.3                  19.0   \n",
            "1                           3.6                  14.9   \n",
            "2                           7.5                  15.3   \n",
            "3                           4.6                  25.0   \n",
            "4                           6.5                  18.0   \n",
            "\n",
            "  Percent of Trips Paid with Credit Card Trips Per Day Shared  \n",
            "0                                      -                9,619  \n",
            "1                                    75%                    -  \n",
            "2                                    87%                    -  \n",
            "3                                      -                    -  \n",
            "4                                      -               13,562  \n",
            "<class 'pandas.core.frame.DataFrame'>\n",
            "RangeIndex: 812 entries, 0 to 811\n",
            "Data columns (total 14 columns):\n",
            " #   Column                                  Non-Null Count  Dtype  \n",
            "---  ------                                  --------------  -----  \n",
            " 0   Month/Year                              812 non-null    object \n",
            " 1   License Class                           812 non-null    object \n",
            " 2   Trips Per Day                           812 non-null    object \n",
            " 3   Farebox Per Day                         812 non-null    object \n",
            " 4   Unique Drivers                          812 non-null    object \n",
            " 5   Unique Vehicles                         812 non-null    object \n",
            " 6   Vehicles Per Day                        812 non-null    object \n",
            " 7   Avg Days Vehicles on Road               812 non-null    float64\n",
            " 8   Avg Hours Per Day Per Vehicle           812 non-null    float64\n",
            " 9   Avg Days Drivers on Road                812 non-null    float64\n",
            " 10  Avg Hours Per Day Per Driver            812 non-null    float64\n",
            " 11  Avg Minutes Per Trip                    812 non-null    float64\n",
            " 12  Percent of Trips Paid with Credit Card  812 non-null    object \n",
            " 13  Trips Per Day Shared                    812 non-null    object \n",
            "dtypes: float64(5), object(9)\n",
            "memory usage: 88.9+ KB\n",
            "None\n"
          ]
        }
      ],
      "source": [
        " # Predictive Analysis (Regression Example)\n",
        " # Step 1: Import libraries\n",
        "import pandas as pd\n",
        "import matplotlib.pyplot as plt\n",
        "import seaborn as sns\n",
        "from sklearn.model_selection import train_test_split\n",
        "from sklearn.linear_model import LinearRegression\n",
        "from sklearn.metrics import mean_squared_error, r2_score\n",
        "\n",
        "# Step 2: Load your dataset\n",
        "df = pd.read_csv(\"data_reports_monthly.csv\")\n",
        "\n",
        "# Step 3: Preview data\n",
        "print(df.head())\n",
        "print(df.info())"
      ]
    },
    {
      "cell_type": "code",
      "source": [
        "# Step 4: Clean data (convert strings to numbers, handle missing values)\n",
        "df = df.replace(',', '', regex=True)\n",
        "df = df.apply(pd.to_numeric, errors='ignore')"
      ],
      "metadata": {
        "colab": {
          "base_uri": "https://localhost:8080/"
        },
        "id": "WMOh3WQFwDiJ",
        "outputId": "a40db3b9-f997-425e-c99b-6c499a649bcf"
      },
      "execution_count": 7,
      "outputs": [
        {
          "output_type": "stream",
          "name": "stderr",
          "text": [
            "<ipython-input-7-d4a467a46da9>:3: FutureWarning: errors='ignore' is deprecated and will raise in a future version. Use to_numeric without passing `errors` and catch exceptions explicitly instead\n",
            "  df = df.apply(pd.to_numeric, errors='ignore')\n"
          ]
        }
      ]
    },
    {
      "cell_type": "code",
      "source": [
        "# Example: Convert 'Trips Per Day' to numeric\n",
        "df['Trips Per Day'] = pd.to_numeric(df['Trips Per Day'], errors='coerce')\n",
        "df.dropna(inplace=True)  # Drop rows with missing values"
      ],
      "metadata": {
        "id": "j0ayb-RNwDV6"
      },
      "execution_count": 8,
      "outputs": []
    },
    {
      "cell_type": "code",
      "source": [
        "# Step 5: Select features (X) and target (y)\n",
        "X = df[['Unique Vehicles', 'Avg Hours Per Day Per Vehicle']]\n",
        "y = df['Trips Per Day']"
      ],
      "metadata": {
        "id": "V0ywAmf0wDMX"
      },
      "execution_count": 9,
      "outputs": []
    },
    {
      "cell_type": "code",
      "source": [
        "# Step 6: Split the data\n",
        "X_train, X_test, y_train, y_test = train_test_split(X, y, test_size=0.2, random_state=42)\n",
        "\n",
        "# Step 7: Train the model\n",
        "model = LinearRegression()\n",
        "model.fit(X_train, y_train)\n",
        "\n",
        "# Step 8: Predict\n",
        "y_pred = model.predict(X_test)"
      ],
      "metadata": {
        "id": "y9kL5QrowDBW"
      },
      "execution_count": 10,
      "outputs": []
    },
    {
      "cell_type": "code",
      "source": [
        "# Step 9: Evaluate\n",
        "print(\"R² Score:\", r2_score(y_test, y_pred))\n",
        "print(\"MSE:\", mean_squared_error(y_test, y_pred))"
      ],
      "metadata": {
        "colab": {
          "base_uri": "https://localhost:8080/"
        },
        "id": "YKFDg6mxwC26",
        "outputId": "7241d2a4-ceff-466c-cd53-b2b012621c16"
      },
      "execution_count": 11,
      "outputs": [
        {
          "output_type": "stream",
          "name": "stdout",
          "text": [
            "R² Score: 0.607765221621098\n",
            "MSE: 6723.155131672544\n"
          ]
        }
      ]
    },
    {
      "cell_type": "code",
      "source": [
        "# Step 10: Plot\n",
        "plt.scatter(y_test, y_pred)\n",
        "plt.xlabel(\"Actual Trips Per Day\")\n",
        "plt.ylabel(\"Predicted Trips Per Day\")\n",
        "plt.title(\"Actual vs Predicted\")\n",
        "plt.show()"
      ],
      "metadata": {
        "colab": {
          "base_uri": "https://localhost:8080/",
          "height": 472
        },
        "id": "9dK7GI1ewCZM",
        "outputId": "77145db7-25a9-404a-fa20-912a3607c173"
      },
      "execution_count": 12,
      "outputs": [
        {
          "output_type": "display_data",
          "data": {
            "text/plain": [
              "<Figure size 640x480 with 1 Axes>"
            ],
            "image/png": "[encoded data removed]"
          },
          "metadata": {}
        }
      ]
    }
  ]
}