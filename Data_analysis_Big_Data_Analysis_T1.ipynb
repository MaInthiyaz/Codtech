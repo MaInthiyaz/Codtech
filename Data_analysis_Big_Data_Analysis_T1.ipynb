{
  "nbformat": 4,
  "nbformat_minor": 0,
  "metadata": {
    "colab": {
      "provenance": [],
      "authorship_tag": "ABX9TyOM32fPiWHiGpd7/4FHQgkW",
      "include_colab_link": true
    },
    "kernelspec": {
      "name": "python3",
      "display_name": "Python 3"
    },
    "language_info": {
      "name": "python"
    }
  },
  "cells": [
    {
      "cell_type": "markdown",
      "metadata": {
        "id": "view-in-github",
        "colab_type": "text"
      },
      "source": [
        "<a href=\"https://colab.research.google.com/github/MaInthiyaz/Codtech/blob/main/Data_analysis_Big_Data_Analysis_T1.ipynb\" target=\"_parent\"><img src=\"https://colab.research.google.com/assets/colab-badge.svg\" alt=\"Open In Colab\"/></a>"
      ]
    },
    {
      "cell_type": "markdown",
      "source": [
        "#Task1 Big data analysis(CT)\n",
        "\n"
      ],
      "metadata": {
        "id": "wCvKUxNEWgBg"
      }
    },
    {
      "cell_type": "code",
      "source": [
        "!pip install pyspark\n"
      ],
      "metadata": {
        "colab": {
          "base_uri": "https://localhost:8080/"
        },
        "id": "F9V3nriYWiK-",
        "outputId": "75b2bf69-7364-4b80-e34e-336ce997ebfb"
      },
      "execution_count": 1,
      "outputs": [
        {
          "output_type": "stream",
          "name": "stdout",
          "text": [
            "Requirement already satisfied: pyspark in /usr/local/lib/python3.11/dist-packages (3.5.1)\n",
            "Requirement already satisfied: py4j==0.10.9.7 in /usr/local/lib/python3.11/dist-packages (from pyspark) (0.10.9.7)\n"
          ]
        }
      ]
    },
    {
      "cell_type": "markdown",
      "source": [
        "Import PySpark and start Spark session"
      ],
      "metadata": {
        "id": "WqiCaYPQXO-Q"
      }
    },
    {
      "cell_type": "code",
      "source": [
        "from pyspark.sql import SparkSession\n",
        "spark = SparkSession.builder.appName(\"BigDataTask\").getOrCreate()\n"
      ],
      "metadata": {
        "id": "icCYSGU_XDb8"
      },
      "execution_count": 2,
      "outputs": []
    },
    {
      "cell_type": "markdown",
      "source": [
        "large and suitable dataset for this task:\n",
        "\n",
        "Dataset: New York City Taxi Trip Data\n",
        "Size: Several GBs (monthly CSV files)\n",
        "Why it fits: It's large-scale (millions of records), publicly available, and ideal for PySpark/Dask processing.\n",
        "inferSchema=True: Automatically infers data types for each column."
      ],
      "metadata": {
        "id": "6qLwRRRAqDBU"
      }
    },
    {
      "cell_type": "code",
      "source": [
        "from pyspark.sql import SparkSession\n",
        "from pyspark.sql.functions import col, avg, desc\n",
        "\n",
        "# Start a Spark session\n",
        "spark = SparkSession.builder.appName(\"CodTech Big Data Analysis\").getOrCreate()\n",
        "\n",
        "# Load your dataset\n",
        "df = spark.read.csv(\"data_reports_monthly.csv\", header=True, inferSchema=True)\n",
        "\n",
        "# Show schema to confirm column names\n",
        "df.printSchema()\n"
      ],
      "metadata": {
        "colab": {
          "base_uri": "https://localhost:8080/"
        },
        "id": "inz7LwCHsFvD",
        "outputId": "298460b4-698b-4d35-b359-892b1e2b6a72"
      },
      "execution_count": 10,
      "outputs": [
        {
          "output_type": "stream",
          "name": "stdout",
          "text": [
            "root\n",
            " |-- Month/Year: timestamp (nullable = true)\n",
            " |-- License Class: string (nullable = true)\n",
            " |-- Trips Per Day: string (nullable = true)\n",
            " |-- Farebox Per Day: string (nullable = true)\n",
            " |-- Unique Drivers: string (nullable = true)\n",
            " |-- Unique Vehicles: string (nullable = true)\n",
            " |-- Vehicles Per Day: string (nullable = true)\n",
            " |-- Avg Days Vehicles on Road: double (nullable = true)\n",
            " |-- Avg Hours Per Day Per Vehicle: double (nullable = true)\n",
            " |-- Avg Days Drivers on Road: double (nullable = true)\n",
            " |-- Avg Hours Per Day Per Driver: double (nullable = true)\n",
            " |-- Avg Minutes Per Trip: double (nullable = true)\n",
            " |-- Percent of Trips Paid with Credit Card: string (nullable = true)\n",
            " |-- Trips Per Day Shared: string (nullable = true)\n",
            "\n"
          ]
        }
      ]
    },
    {
      "cell_type": "markdown",
      "source": [
        "Convert Numeric Columns from String to Double\n",
        "Some columns like \"Trips Per Day\" and \"Farebox Per Day\" are read as strings. We need to cast them to numeric types for analysis."
      ],
      "metadata": {
        "id": "14KEz-SFsTbr"
      }
    },
    {
      "cell_type": "code",
      "source": [
        "# Cast key columns to double for math operations\n",
        "df = df.withColumn(\"Trips Per Day\", col(\"Trips Per Day\").cast(\"double\"))\n",
        "df = df.withColumn(\"Farebox Per Day\", col(\"Farebox Per Day\").cast(\"double\"))\n",
        "df = df.withColumn(\"Percent of Trips Paid with Credit Card\", col(\"Percent of Trips Paid with Credit Card\").cast(\"double\"))\n"
      ],
      "metadata": {
        "id": "wDn4tf1EsUTP"
      },
      "execution_count": 11,
      "outputs": []
    },
    {
      "cell_type": "markdown",
      "source": [
        "Trip & Fare Summary"
      ],
      "metadata": {
        "id": "qAAHvF51scfn"
      }
    },
    {
      "cell_type": "code",
      "source": [
        "df.select(\"Trips Per Day\", \"Farebox Per Day\").describe().show()\n"
      ],
      "metadata": {
        "colab": {
          "base_uri": "https://localhost:8080/"
        },
        "id": "ke4xFWrxscDc",
        "outputId": "f5176a15-d828-4d5a-9fc6-7b93f0e0cf53"
      },
      "execution_count": 12,
      "outputs": [
        {
          "output_type": "stream",
          "name": "stdout",
          "text": [
            "+-------+-----------------+---------------+\n",
            "|summary|    Trips Per Day|Farebox Per Day|\n",
            "+-------+-----------------+---------------+\n",
            "|  count|               23|              0|\n",
            "|   mean|611.4347826086956|           NULL|\n",
            "| stddev|238.2891341678227|           NULL|\n",
            "|    min|            148.0|           NULL|\n",
            "|    max|            986.0|           NULL|\n",
            "+-------+-----------------+---------------+\n",
            "\n"
          ]
        }
      ]
    },
    {
      "cell_type": "markdown",
      "source": [
        "Trend Over Time (Month/Year)"
      ],
      "metadata": {
        "id": "MSAmZgEwsoCQ"
      }
    },
    {
      "cell_type": "code",
      "source": [
        "df.groupBy(\"Month/Year\").agg(\n",
        "    avg(\"Trips Per Day\").alias(\"Avg Trips\"),\n",
        "    avg(\"Farebox Per Day\").alias(\"Avg Fare\")\n",
        ").orderBy(\"Month/Year\").show()\n",
        "# Shows how demand and revenue change monthly."
      ],
      "metadata": {
        "colab": {
          "base_uri": "https://localhost:8080/"
        },
        "id": "Eq-VPxAHspEU",
        "outputId": "035185c4-bf64-45a3-f4f4-3da22f27e86b"
      },
      "execution_count": 13,
      "outputs": [
        {
          "output_type": "stream",
          "name": "stdout",
          "text": [
            "+-------------------+---------+--------+\n",
            "|         Month/Year|Avg Trips|Avg Fare|\n",
            "+-------------------+---------+--------+\n",
            "|2010-01-01 00:00:00|     NULL|    NULL|\n",
            "|2010-02-01 00:00:00|     NULL|    NULL|\n",
            "|2010-03-01 00:00:00|     NULL|    NULL|\n",
            "|2010-04-01 00:00:00|     NULL|    NULL|\n",
            "|2010-05-01 00:00:00|     NULL|    NULL|\n",
            "|2010-06-01 00:00:00|     NULL|    NULL|\n",
            "|2010-07-01 00:00:00|     NULL|    NULL|\n",
            "|2010-08-01 00:00:00|     NULL|    NULL|\n",
            "|2010-09-01 00:00:00|     NULL|    NULL|\n",
            "|2010-10-01 00:00:00|     NULL|    NULL|\n",
            "|2010-11-01 00:00:00|     NULL|    NULL|\n",
            "|2010-12-01 00:00:00|     NULL|    NULL|\n",
            "|2011-01-01 00:00:00|     NULL|    NULL|\n",
            "|2011-02-01 00:00:00|     NULL|    NULL|\n",
            "|2011-03-01 00:00:00|     NULL|    NULL|\n",
            "|2011-04-01 00:00:00|     NULL|    NULL|\n",
            "|2011-05-01 00:00:00|     NULL|    NULL|\n",
            "|2011-06-01 00:00:00|     NULL|    NULL|\n",
            "|2011-07-01 00:00:00|     NULL|    NULL|\n",
            "|2011-08-01 00:00:00|     NULL|    NULL|\n",
            "+-------------------+---------+--------+\n",
            "only showing top 20 rows\n",
            "\n"
          ]
        }
      ]
    },
    {
      "cell_type": "markdown",
      "source": [
        "Credit Card Payment Percentage"
      ],
      "metadata": {
        "id": "FmEzihfws0k6"
      }
    },
    {
      "cell_type": "code",
      "source": [
        "df.select(\"Month/Year\", \"Percent of Trips Paid with Credit Card\") \\\n",
        "  .orderBy(desc(\"Percent of Trips Paid with Credit Card\")) \\\n",
        "  .show(5)\n",
        "#Displays the top 5 months with highest card payments."
      ],
      "metadata": {
        "colab": {
          "base_uri": "https://localhost:8080/"
        },
        "id": "F3UVyVhKs4SB",
        "outputId": "532724d1-91d4-40b0-9c38-5aa741f87a84"
      },
      "execution_count": 14,
      "outputs": [
        {
          "output_type": "stream",
          "name": "stdout",
          "text": [
            "+-------------------+--------------------------------------+\n",
            "|         Month/Year|Percent of Trips Paid with Credit Card|\n",
            "+-------------------+--------------------------------------+\n",
            "|2025-03-01 00:00:00|                                  NULL|\n",
            "|2025-03-01 00:00:00|                                  NULL|\n",
            "|2025-03-01 00:00:00|                                  NULL|\n",
            "|2025-02-01 00:00:00|                                  NULL|\n",
            "|2025-02-01 00:00:00|                                  NULL|\n",
            "+-------------------+--------------------------------------+\n",
            "only showing top 5 rows\n",
            "\n"
          ]
        }
      ]
    },
    {
      "cell_type": "markdown",
      "source": [
        "Driver Utilization"
      ],
      "metadata": {
        "id": "vTuuBO-vtFAd"
      }
    },
    {
      "cell_type": "code",
      "source": [
        "df.select(\"Avg Hours Per Day Per Driver\", \"Avg Days Drivers on Road\").describe().show()\n",
        "#Helps understand driver workload trends."
      ],
      "metadata": {
        "colab": {
          "base_uri": "https://localhost:8080/"
        },
        "id": "nrKNaELVtF9X",
        "outputId": "c5f19839-6744-418c-f044-caa68e0bbf9b"
      },
      "execution_count": 15,
      "outputs": [
        {
          "output_type": "stream",
          "name": "stdout",
          "text": [
            "+-------+----------------------------+------------------------+\n",
            "|summary|Avg Hours Per Day Per Driver|Avg Days Drivers on Road|\n",
            "+-------+----------------------------+------------------------+\n",
            "|  count|                         812|                     812|\n",
            "|   mean|           5.204556650246314|      18.099137931034488|\n",
            "| stddev|           1.924869089466435|      3.7050885455208946|\n",
            "|    min|                         1.7|                     6.8|\n",
            "|    max|                         8.5|                    23.8|\n",
            "+-------+----------------------------+------------------------+\n",
            "\n"
          ]
        }
      ]
    },
    {
      "cell_type": "markdown",
      "source": [
        "Vehicle Utilization"
      ],
      "metadata": {
        "id": "xH6E-3hDtURJ"
      }
    },
    {
      "cell_type": "code",
      "source": [
        "df.select(\"Avg Hours Per Day Per Vehicle\", \"Avg Days Vehicles on Road\").describe().show()\n",
        "#Similar stats for fleet management analysis."
      ],
      "metadata": {
        "colab": {
          "base_uri": "https://localhost:8080/"
        },
        "id": "NieQwHtatVHt",
        "outputId": "0ead404b-d1fb-4cd5-85ef-92caf2ae3e24"
      },
      "execution_count": 16,
      "outputs": [
        {
          "output_type": "stream",
          "name": "stdout",
          "text": [
            "+-------+-----------------------------+-------------------------+\n",
            "|summary|Avg Hours Per Day Per Vehicle|Avg Days Vehicles on Road|\n",
            "+-------+-----------------------------+-------------------------+\n",
            "|  count|                          812|                      812|\n",
            "|   mean|            6.174137931034492|       19.682881773399007|\n",
            "| stddev|           3.5464778895615376|       5.4617007573035945|\n",
            "|    min|                          1.8|                      6.7|\n",
            "|    max|                         15.3|                     30.1|\n",
            "+-------+-----------------------------+-------------------------+\n",
            "\n"
          ]
        }
      ]
    },
    {
      "cell_type": "markdown",
      "source": [
        "Trip Duration Insight"
      ],
      "metadata": {
        "id": "N7bwwzxTtfkA"
      }
    },
    {
      "cell_type": "code",
      "source": [
        "df.select(\"Avg Minutes Per Trip\").describe().show()\n",
        "#Shows the efficiency of each ride."
      ],
      "metadata": {
        "colab": {
          "base_uri": "https://localhost:8080/"
        },
        "id": "xyZuE5y6tghm",
        "outputId": "72b25e8b-0ee9-46d3-ad54-11edd2f59e68"
      },
      "execution_count": 17,
      "outputs": [
        {
          "output_type": "stream",
          "name": "stdout",
          "text": [
            "+-------+--------------------+\n",
            "|summary|Avg Minutes Per Trip|\n",
            "+-------+--------------------+\n",
            "|  count|                 812|\n",
            "|   mean|  20.627832512315244|\n",
            "| stddev|  18.024483656382174|\n",
            "|    min|                 0.0|\n",
            "|    max|                75.0|\n",
            "+-------+--------------------+\n",
            "\n"
          ]
        }
      ]
    },
    {
      "cell_type": "markdown",
      "source": [
        "| Deliverable Type | Example Result                             |\n",
        "| ---------------- | ------------------------------------------ |\n",
        "| Script           | PySpark script (as above)                  |\n",
        "| Insights         | Monthly trend, usage patterns, utilization |\n",
        "| Tools Used       | PySpark, DataFrame API                     |\n",
        "| Dataset Used     | `data_reports_monthly.csv`                 |\n"
      ],
      "metadata": {
        "id": "L-EVxAA7t5ET"
      }
    }
  ]
}